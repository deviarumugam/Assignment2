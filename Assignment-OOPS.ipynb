{
 "cells": [
  {
   "cell_type": "code",
   "execution_count": 43,
   "metadata": {},
   "outputs": [],
   "source": [
    "class A:\n",
    "    def __init__(self,a):\n",
    "        self.a=a\n",
    "    def test(self):\n",
    "        print(\"Your Mark in Test1:\",self.a)\n",
    "        print(\"This is a Method in Class A\")\n",
    "    def __str__(self):\n",
    "        return str(self.a)\n",
    "class B(A):\n",
    "    def __init__(self,a1):\n",
    "        self.a1=a1\n",
    "    def test(self):\n",
    "        print(\"Your Mark in Test2:\",self.a1)\n",
    "        print(\"This is a Method in Class B\")\n",
    "    def __str__(self):\n",
    "        return str(self.a1)\n",
    "class C(B,A):\n",
    "    def __init__(self,a,a1):\n",
    "        super(A,self).__init__()\n",
    "        self.a=a\n",
    "        self.a1=a1\n",
    "        A.test(self)   "
   ]
  },
  {
   "cell_type": "code",
   "execution_count": 44,
   "metadata": {},
   "outputs": [
    {
     "name": "stdout",
     "output_type": "stream",
     "text": [
      "Your Mark in Test1: 10\n",
      "This is a Method in Class A\n",
      "Your Mark in Test2: 20\n",
      "This is a Method in Class B\n"
     ]
    }
   ],
   "source": [
    "obj2=C(10,20)\n",
    "obj2.test()"
   ]
  },
  {
   "cell_type": "code",
   "execution_count": null,
   "metadata": {},
   "outputs": [],
   "source": []
  },
  {
   "cell_type": "code",
   "execution_count": null,
   "metadata": {},
   "outputs": [],
   "source": []
  },
  {
   "cell_type": "code",
   "execution_count": null,
   "metadata": {},
   "outputs": [],
   "source": []
  }
 ],
 "metadata": {
  "kernelspec": {
   "display_name": "Python 3",
   "language": "python",
   "name": "python3"
  },
  "language_info": {
   "codemirror_mode": {
    "name": "ipython",
    "version": 3
   },
   "file_extension": ".py",
   "mimetype": "text/x-python",
   "name": "python",
   "nbconvert_exporter": "python",
   "pygments_lexer": "ipython3",
   "version": "3.7.4"
  }
 },
 "nbformat": 4,
 "nbformat_minor": 2
}
